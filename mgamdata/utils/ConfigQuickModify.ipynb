{
 "cells": [
  {
   "cell_type": "code",
   "execution_count": 1,
   "metadata": {},
   "outputs": [
    {
     "name": "stdout",
     "output_type": "stream",
     "text": [
      "./configs/6.14.0.autoPET_Only1Anno -> ./configs/6.14.0.autoPET_Only1Anno\n",
      "./configs/6.14.1.Only2Anno -> ./configs/6.14.1.Only2Anno\n",
      "./configs/6.14.10.Only3Anno_A7S1 -> ./configs/6.14.10.Only3Anno_A7S1\n",
      "./configs/6.14.11.Only4Anno_A7S1 -> ./configs/6.14.11.Only4Anno_A7S1\n",
      "./configs/6.14.12.Only5Anno_A7S1 -> ./configs/6.14.12.Only5Anno_A7S1\n",
      "./configs/6.14.13.Only6Anno_A7S1 -> ./configs/6.14.13.Only6Anno_A7S1\n",
      "./configs/6.14.14.Only7Anno_A7S1 -> ./configs/6.14.14.Only7Anno_A7S1\n",
      "./configs/6.14.15.Only8Anno_A7S1 -> ./configs/6.14.15.Only8Anno_A7S1\n",
      "./configs/6.14.2.Only3Anno -> ./configs/6.14.2.Only3Anno\n",
      "./configs/6.14.3.Only4Anno -> ./configs/6.14.3.Only4Anno\n",
      "./configs/6.14.4.Only5Anno -> ./configs/6.14.4.Only5Anno\n",
      "./configs/6.14.5.Only6Anno -> ./configs/6.14.5.Only6Anno\n",
      "./configs/6.14.6.Only7Anno -> ./configs/6.14.6.Only7Anno\n",
      "./configs/6.14.7.Only8Anno -> ./configs/6.14.7.Only8Anno\n",
      "./configs/6.14.8.Only1Anno_A7S1 -> ./configs/6.14.8.Only1Anno_A7S1\n",
      "./configs/6.14.9.Only2Anno_A7S1 -> ./configs/6.14.9.Only2Anno_A7S1\n"
     ]
    }
   ],
   "source": [
    "import os\n",
    "from os import path as osp\n",
    "\n",
    "# 配置文件夹Root\n",
    "CONFIG_ROOT = './configs'\n",
    "# 识别需要操作的实验文件夹\n",
    "FOLDER_IDENTIFY = ('6.14.',)\n",
    "# 实验文件夹名修改\n",
    "FOLDER_REPLACE = ('6.13.', '6.14.')\n",
    "# 删除被选中的文件夹名的一部分\n",
    "FOLDER_STRIP = ' - 副本'\n",
    "# 要修改的配置文件\n",
    "CONFIG_FILE_NAME = 'mgam.py'\n",
    "# 要修改的配置文件的字符串\n",
    "CONFIG_STRING_REPLACE = [(\"dataset_source = 'hvsmr_2016'\", \"dataset_source = 'AMOS2022'\"),]\n",
    "\n",
    "for folder in os.listdir(CONFIG_ROOT):\n",
    "    if all(sub_identify in folder for sub_identify in FOLDER_IDENTIFY):\n",
    "        # 目录修改\n",
    "        old_folder_name = osp.join(CONFIG_ROOT, folder)\n",
    "        new_folder_name = osp.join(CONFIG_ROOT, folder.strip(FOLDER_STRIP).replace(*FOLDER_REPLACE))\n",
    "        \n",
    "        os.rename(old_folder_name, new_folder_name)\n",
    "        mgam_cfg = osp.join(new_folder_name, CONFIG_FILE_NAME)\n",
    "        with open(mgam_cfg, 'r') as file:\n",
    "            config = file.read()\n",
    "        \n",
    "        # 配置修改\n",
    "        for old, new in CONFIG_STRING_REPLACE:\n",
    "            config = config.replace(old, new)\n",
    "            \n",
    "        with open(mgam_cfg, 'w') as file:\n",
    "            file.write(config)\n",
    "        \n",
    "        print(f\"{old_folder_name} -> {new_folder_name}\")"
   ]
  }
 ],
 "metadata": {
  "kernelspec": {
   "display_name": "mmlab",
   "language": "python",
   "name": "python3"
  },
  "language_info": {
   "codemirror_mode": {
    "name": "ipython",
    "version": 3
   },
   "file_extension": ".py",
   "mimetype": "text/x-python",
   "name": "python",
   "nbconvert_exporter": "python",
   "pygments_lexer": "ipython3",
   "version": "3.12.4"
  }
 },
 "nbformat": 4,
 "nbformat_minor": 2
}
